{
 "cells": [
  {
   "cell_type": "markdown",
   "id": "dfdca37a",
   "metadata": {},
   "source": [
    "1. Импортируйте пакет numpy под именем np"
   ]
  },
  {
   "cell_type": "code",
   "execution_count": 3,
   "id": "f7c20b85",
   "metadata": {},
   "outputs": [],
   "source": [
    "import numpy as np"
   ]
  },
  {
   "cell_type": "markdown",
   "id": "1b0c7f2d",
   "metadata": {},
   "source": [
    "2. Распечатайте версию numpy"
   ]
  },
  {
   "cell_type": "code",
   "execution_count": 2,
   "id": "895d41c5",
   "metadata": {},
   "outputs": [
    {
     "name": "stdout",
     "output_type": "stream",
     "text": [
      "1.26.4\n"
     ]
    }
   ],
   "source": [
    "print(np.__version__)"
   ]
  },
  {
   "cell_type": "markdown",
   "id": "711ff100",
   "metadata": {},
   "source": [
    "3. Создайте вектор со значениями от 10 до 49 "
   ]
  },
  {
   "cell_type": "code",
   "execution_count": 6,
   "id": "c37e2757",
   "metadata": {},
   "outputs": [
    {
     "name": "stdout",
     "output_type": "stream",
     "text": [
      "[10 11 12 13 14 15 16 17 18 19 20 21 22 23 24 25 26 27 28 29 30 31 32 33\n",
      " 34 35 36 37 38 39 40 41 42 43 44 45 46 47 48 49]\n"
     ]
    }
   ],
   "source": []
  },
  {
   "cell_type": "code",
   "execution_count": 5,
   "id": "60f5cd4c-8619-472d-9bb3-31f013d40780",
   "metadata": {},
   "outputs": [
    {
     "data": {
      "text/plain": [
       "array([10, 11, 12, 13, 14, 15, 16, 17, 18, 19, 20, 21, 22, 23, 24, 25, 26,\n",
       "       27, 28, 29, 30, 31, 32, 33, 34, 35, 36, 37, 38, 39, 40, 41, 42, 43,\n",
       "       44, 45, 46, 47, 48, 49])"
      ]
     },
     "execution_count": 5,
     "metadata": {},
     "output_type": "execute_result"
    }
   ],
   "source": [
    "vector = np.arange(10, 50, 1)\n",
    "vector"
   ]
  },
  {
   "cell_type": "markdown",
   "id": "c66fd371",
   "metadata": {},
   "source": [
    "4. Перевернуть вектор (первый элемент становится последним)"
   ]
  },
  {
   "cell_type": "code",
   "execution_count": 7,
   "id": "0884ebbd",
   "metadata": {},
   "outputs": [
    {
     "name": "stdout",
     "output_type": "stream",
     "text": [
      "[49 48 47 46 45 44 43 42 41 40 39 38 37 36 35 34 33 32 31 30 29 28 27 26\n",
      " 25 24 23 22 21 20 19 18 17 16 15 14 13 12 11 10]\n"
     ]
    }
   ],
   "source": []
  },
  {
   "cell_type": "code",
   "execution_count": 9,
   "id": "b33ee179-a906-4010-915f-fded510a8635",
   "metadata": {},
   "outputs": [
    {
     "data": {
      "text/plain": [
       "array([49, 48, 47, 46, 45, 44, 43, 42, 41, 40, 39, 38, 37, 36, 35, 34, 33,\n",
       "       32, 31, 30, 29, 28, 27, 26, 25, 24, 23, 22, 21, 20, 19, 18, 17, 16,\n",
       "       15, 14, 13, 12, 11, 10])"
      ]
     },
     "execution_count": 9,
     "metadata": {},
     "output_type": "execute_result"
    }
   ],
   "source": [
    "vector = np.flip(vector)\n",
    "vector"
   ]
  },
  {
   "cell_type": "markdown",
   "id": "a3a4cb15",
   "metadata": {},
   "source": [
    "5. Создайте массив 5x5 со случайными значениями и найдите среднее значение и медиану для каждой строки"
   ]
  },
  {
   "cell_type": "code",
   "execution_count": 12,
   "id": "60256c25",
   "metadata": {},
   "outputs": [
    {
     "name": "stdout",
     "output_type": "stream",
     "text": [
      "[[0.64358985 0.77621004 0.68329018 0.91774474 0.91328176]\n",
      " [0.21473351 0.63715337 0.92090262 0.7721383  0.26861897]\n",
      " [0.49428744 0.85288126 0.17350766 0.7782993  0.3882513 ]\n",
      " [0.8929048  0.81732248 0.71134781 0.1656408  0.91518786]\n",
      " [0.08368765 0.15504735 0.43085952 0.99051854 0.85670333]]\n"
     ]
    }
   ],
   "source": [
    "A = np.random.random((5,5))\n",
    "print(A)"
   ]
  },
  {
   "cell_type": "code",
   "execution_count": 21,
   "id": "77866f8b",
   "metadata": {},
   "outputs": [
    {
     "name": "stdout",
     "output_type": "stream",
     "text": [
      "[[0.60513139 0.51104551 0.13604523 0.33484451 0.51645653]\n",
      " [0.392631   0.09547926 0.97606903 0.61395921 0.16547982]\n",
      " [0.54267571 0.57232109 0.94615186 0.93101425 0.57500688]\n",
      " [0.98753851 0.72957486 0.55068127 0.56205486 0.14015957]\n",
      " [0.10731879 0.09344145 0.44873276 0.80195026 0.64184683]]\n"
     ]
    },
    {
     "data": {
      "text/plain": [
       "array([0.51104551, 0.392631  , 0.57500688, 0.56205486, 0.44873276])"
      ]
     },
     "execution_count": 21,
     "metadata": {},
     "output_type": "execute_result"
    }
   ],
   "source": [
    "A = np.random.random((5,5))\n",
    "print(A)\n",
    "np.mean(A, axis=1)\n",
    "np.median(A, axis=1)"
   ]
  },
  {
   "cell_type": "code",
   "execution_count": 20,
   "id": "d4e933ce",
   "metadata": {},
   "outputs": [
    {
     "data": {
      "text/plain": [
       "array([0.77621004, 0.63715337, 0.49428744, 0.81732248, 0.43085952])"
      ]
     },
     "execution_count": 20,
     "metadata": {},
     "output_type": "execute_result"
    }
   ],
   "source": []
  },
  {
   "cell_type": "markdown",
   "id": "ee02ae2c",
   "metadata": {},
   "source": [
    "6. Преобразуйте одномерный массив из 27 элементов целого типа в трехмерный (3x3x3)"
   ]
  },
  {
   "cell_type": "code",
   "execution_count": null,
   "id": "c3271c9f",
   "metadata": {},
   "outputs": [],
   "source": [
    "a = np.array([x for x in range(27)])"
   ]
  },
  {
   "cell_type": "code",
   "execution_count": 30,
   "id": "d3151c71",
   "metadata": {},
   "outputs": [
    {
     "name": "stdout",
     "output_type": "stream",
     "text": [
      "[[[ 0  1  2]\n",
      "  [ 3  4  5]\n",
      "  [ 6  7  8]]\n",
      "\n",
      " [[ 9 10 11]\n",
      "  [12 13 14]\n",
      "  [15 16 17]]\n",
      "\n",
      " [[18 19 20]\n",
      "  [21 22 23]\n",
      "  [24 25 26]]]\n"
     ]
    }
   ],
   "source": []
  },
  {
   "cell_type": "code",
   "execution_count": 23,
   "id": "a115256a-7b40-47a4-b8fb-b28eafcf15ef",
   "metadata": {},
   "outputs": [
    {
     "data": {
      "text/plain": [
       "array([ 0,  1,  2,  3,  4,  5,  6,  7,  8,  9, 10, 11, 12, 13, 14, 15, 16,\n",
       "       17, 18, 19, 20, 21, 22, 23, 24, 25, 26])"
      ]
     },
     "execution_count": 23,
     "metadata": {},
     "output_type": "execute_result"
    }
   ],
   "source": [
    "a = np.array([x for x in range(27)])\n",
    "a"
   ]
  },
  {
   "cell_type": "code",
   "execution_count": 26,
   "id": "ef25cc24-0138-4b2a-a047-7b611319fb3a",
   "metadata": {},
   "outputs": [
    {
     "data": {
      "text/plain": [
       "array([[[ 0,  1,  2],\n",
       "        [ 3,  4,  5],\n",
       "        [ 6,  7,  8]],\n",
       "\n",
       "       [[ 9, 10, 11],\n",
       "        [12, 13, 14],\n",
       "        [15, 16, 17]],\n",
       "\n",
       "       [[18, 19, 20],\n",
       "        [21, 22, 23],\n",
       "        [24, 25, 26]]])"
      ]
     },
     "execution_count": 26,
     "metadata": {},
     "output_type": "execute_result"
    }
   ],
   "source": [
    "a = a.reshape(3, 3, 3)\n",
    "a"
   ]
  },
  {
   "cell_type": "markdown",
   "id": "e3bad8e7",
   "metadata": {},
   "source": [
    "7. Преобразуйте все элементы массива numpy из типа данных float в integer"
   ]
  },
  {
   "cell_type": "code",
   "execution_count": 40,
   "id": "29e474ac",
   "metadata": {},
   "outputs": [],
   "source": [
    "a = np.array([[3.5, 1.9, 8.45], [4.7, 7.9, 1.9]])"
   ]
  },
  {
   "cell_type": "code",
   "execution_count": 41,
   "id": "be7c498a",
   "metadata": {},
   "outputs": [
    {
     "name": "stdout",
     "output_type": "stream",
     "text": [
      "[[3 1 8]\n",
      " [4 7 1]]\n"
     ]
    }
   ],
   "source": []
  },
  {
   "cell_type": "markdown",
   "id": "b8b96818",
   "metadata": {},
   "source": [
    "8. Преобразуйте двоичный массив numpy [[1, 0, 0], [1, 1, 1],  [0, 0, 1]] (содержащий только 0 и 1) в логический массив numpy"
   ]
  },
  {
   "cell_type": "code",
   "execution_count": 36,
   "id": "1ba9b37c",
   "metadata": {},
   "outputs": [],
   "source": [
    "a = np.array([[1, 0, 0], [1, 1, 1],  [0, 0, 1]])"
   ]
  },
  {
   "cell_type": "code",
   "execution_count": 37,
   "id": "fc0f410e",
   "metadata": {},
   "outputs": [
    {
     "name": "stdout",
     "output_type": "stream",
     "text": [
      "[[ True False False]\n",
      " [ True  True  True]\n",
      " [False False  True]]\n"
     ]
    }
   ],
   "source": []
  },
  {
   "cell_type": "code",
   "execution_count": 60,
   "id": "b4ef65e2-1acb-49c4-b7d8-0379cf94d520",
   "metadata": {},
   "outputs": [
    {
     "data": {
      "text/plain": [
       "array([[ True, False, False],\n",
       "       [ True,  True,  True],\n",
       "       [False, False,  True]])"
      ]
     },
     "execution_count": 60,
     "metadata": {},
     "output_type": "execute_result"
    }
   ],
   "source": [
    "a = np.array([[1, 0, 0], [1, 1, 1],  [0, 0, 1]]) \n",
    "b = a.astype(bool)\n",
    "b"
   ]
  },
  {
   "cell_type": "code",
   "execution_count": 41,
   "id": "d9be3d93-9cc3-43e4-89cb-64459300e40b",
   "metadata": {},
   "outputs": [
    {
     "data": {
      "text/plain": [
       "array([[ True, False, False],\n",
       "       [ True,  True,  True],\n",
       "       [False, False,  True]])"
      ]
     },
     "execution_count": 41,
     "metadata": {},
     "output_type": "execute_result"
    }
   ],
   "source": [
    "a = np.array([[1, 0, 0], [1, 1, 1],  [0, 0, 1]]) \n",
    "a = np.array(a, dtype=bool)\n",
    "a"
   ]
  },
  {
   "cell_type": "markdown",
   "id": "2e29bca1",
   "metadata": {},
   "source": [
    "9. Расположите 2 массива numpy горизонтально (hstack), т.е. 2 массива, имеющих одинаковое 1-е измерение (количество строк в 2D-массивах)"
   ]
  },
  {
   "cell_type": "code",
   "execution_count": null,
   "id": "016a54b0-7417-4030-ab58-ddde61456841",
   "metadata": {},
   "outputs": [],
   "source": []
  },
  {
   "cell_type": "code",
   "execution_count": 82,
   "id": "85022b72",
   "metadata": {},
   "outputs": [],
   "source": [
    "a1 = np.array([[1,2,3], [4,5,6]])\n",
    "a2 = np.array([[7,8,9], [10,11,12]])"
   ]
  },
  {
   "cell_type": "code",
   "execution_count": 83,
   "id": "969a2462-b0c5-46ba-8304-feb4228c431e",
   "metadata": {},
   "outputs": [
    {
     "data": {
      "text/plain": [
       "array([[ 1,  2,  3,  7,  8,  9],\n",
       "       [ 4,  5,  6, 10, 11, 12]])"
      ]
     },
     "execution_count": 83,
     "metadata": {},
     "output_type": "execute_result"
    }
   ],
   "source": [
    "a3 = np.hstack((a1, a2))\n",
    "a3"
   ]
  },
  {
   "cell_type": "markdown",
   "id": "94718a01",
   "metadata": {},
   "source": [
    "10. Расположите 2 массива numpy вертикально (vstack), т.е. 2 массива, имеющие одинаковое последнее измерение (количество столбцов в 2D-массивах)"
   ]
  },
  {
   "cell_type": "code",
   "execution_count": 84,
   "id": "da19bfd1",
   "metadata": {},
   "outputs": [],
   "source": [
    "a1 = np.array([[1,2],\n",
    " [3,4],\n",
    " [5,6]])\n",
    "\n",
    "a2 = np.array([[7,8],\n",
    " [9,10],\n",
    " [10,11]])"
   ]
  },
  {
   "cell_type": "code",
   "execution_count": 43,
   "id": "a7215a42",
   "metadata": {},
   "outputs": [
    {
     "name": "stdout",
     "output_type": "stream",
     "text": [
      "[[ 1  2]\n",
      " [ 3  4]\n",
      " [ 5  6]\n",
      " [ 7  8]\n",
      " [ 9 10]\n",
      " [10 11]]\n"
     ]
    }
   ],
   "source": []
  },
  {
   "cell_type": "code",
   "execution_count": 86,
   "id": "86b5a1df-0277-4e10-a675-13ddb0a917cb",
   "metadata": {},
   "outputs": [
    {
     "data": {
      "text/plain": [
       "array([[ 1,  2],\n",
       "       [ 3,  4],\n",
       "       [ 5,  6],\n",
       "       [ 7,  8],\n",
       "       [ 9, 10],\n",
       "       [10, 11]])"
      ]
     },
     "execution_count": 86,
     "metadata": {},
     "output_type": "execute_result"
    }
   ],
   "source": [
    "a3 = np.vstack((a1, a2))\n",
    "a3"
   ]
  },
  {
   "cell_type": "markdown",
   "id": "2da0ed17",
   "metadata": {},
   "source": [
    "11. Из 2 массивов numpy извлеките индексы, в которых совпадают элементы (np.where)"
   ]
  },
  {
   "cell_type": "code",
   "execution_count": 90,
   "id": "9067ab95",
   "metadata": {},
   "outputs": [],
   "source": [
    "a = np.array([1,2,3,4,5])\n",
    "b = np.array([1,3,2,4,5])"
   ]
  },
  {
   "cell_type": "code",
   "execution_count": 45,
   "id": "db588189",
   "metadata": {},
   "outputs": [
    {
     "name": "stdout",
     "output_type": "stream",
     "text": [
      "(array([0, 3, 4], dtype=int64),)\n"
     ]
    }
   ],
   "source": []
  },
  {
   "cell_type": "code",
   "execution_count": 92,
   "id": "a37efdfb-5a62-4be7-9ec4-7568dd62c08a",
   "metadata": {},
   "outputs": [
    {
     "data": {
      "text/plain": [
       "(array([0, 3, 4], dtype=int64),)"
      ]
     },
     "execution_count": 92,
     "metadata": {},
     "output_type": "execute_result"
    }
   ],
   "source": [
    "np.where(a == b)"
   ]
  },
  {
   "cell_type": "markdown",
   "id": "fe3b0a62",
   "metadata": {},
   "source": [
    "12. Выведите результат умножения 2 матриц (в виде массива numpy)"
   ]
  },
  {
   "cell_type": "code",
   "execution_count": 93,
   "id": "2f7ec1fc",
   "metadata": {},
   "outputs": [],
   "source": [
    "a = np.array([[1,2,3], \n",
    " [4,5,6], \n",
    " [7,8,9]])\n",
    "\n",
    "b = np.array([[2,3,4], \n",
    " [5,6,7], \n",
    " [8,9,10]])"
   ]
  },
  {
   "cell_type": "code",
   "execution_count": 55,
   "id": "70a81615",
   "metadata": {},
   "outputs": [
    {
     "name": "stdout",
     "output_type": "stream",
     "text": [
      "[[ 36  42  48]\n",
      " [ 81  96 111]\n",
      " [126 150 174]]\n"
     ]
    }
   ],
   "source": []
  },
  {
   "cell_type": "code",
   "execution_count": 94,
   "id": "c810cd60",
   "metadata": {},
   "outputs": [
    {
     "data": {
      "text/plain": [
       "array([[ 36,  42,  48],\n",
       "       [ 81,  96, 111],\n",
       "       [126, 150, 174]])"
      ]
     },
     "execution_count": 94,
     "metadata": {},
     "output_type": "execute_result"
    }
   ],
   "source": [
    "c = a @ b\n",
    "c"
   ]
  },
  {
   "cell_type": "markdown",
   "id": "ea2f28fe",
   "metadata": {},
   "source": [
    "13. Выведите транспонированную матрицу"
   ]
  },
  {
   "cell_type": "code",
   "execution_count": 95,
   "id": "998be8ca",
   "metadata": {},
   "outputs": [],
   "source": [
    "a = np.array([[1,2,3], \n",
    " [4,5,6], \n",
    " [7,8,9]])"
   ]
  },
  {
   "cell_type": "code",
   "execution_count": 60,
   "id": "b655308c",
   "metadata": {},
   "outputs": [
    {
     "name": "stdout",
     "output_type": "stream",
     "text": [
      "[[1 4 7]\n",
      " [2 5 8]\n",
      " [3 6 9]]\n"
     ]
    }
   ],
   "source": []
  },
  {
   "cell_type": "code",
   "execution_count": 64,
   "id": "9c61ecb3",
   "metadata": {},
   "outputs": [
    {
     "data": {
      "text/plain": [
       "array([[1, 4, 7],\n",
       "       [2, 5, 8],\n",
       "       [3, 6, 9]])"
      ]
     },
     "execution_count": 64,
     "metadata": {},
     "output_type": "execute_result"
    }
   ],
   "source": []
  },
  {
   "cell_type": "code",
   "execution_count": 96,
   "id": "2db520de-f0a1-4ec5-aee6-479e4930e0d3",
   "metadata": {},
   "outputs": [
    {
     "data": {
      "text/plain": [
       "array([[1, 4, 7],\n",
       "       [2, 5, 8],\n",
       "       [3, 6, 9]])"
      ]
     },
     "execution_count": 96,
     "metadata": {},
     "output_type": "execute_result"
    }
   ],
   "source": [
    "a.T"
   ]
  },
  {
   "cell_type": "markdown",
   "id": "626917af",
   "metadata": {},
   "source": [
    "14. Вычислите синус массива углов (в радианах) с помощью NumPy"
   ]
  },
  {
   "cell_type": "code",
   "execution_count": 102,
   "id": "23865e63",
   "metadata": {},
   "outputs": [
    {
     "data": {
      "text/plain": [
       "array([3.14, 1.57, 6.28])"
      ]
     },
     "execution_count": 102,
     "metadata": {},
     "output_type": "execute_result"
    }
   ],
   "source": [
    "angles = np.array([3.14, 3.14/2, 6.28])\n",
    "angles"
   ]
  },
  {
   "cell_type": "code",
   "execution_count": 67,
   "id": "be13fc0e",
   "metadata": {},
   "outputs": [
    {
     "name": "stdout",
     "output_type": "stream",
     "text": [
      "[ 0.00159265  0.99999968 -0.0031853 ]\n"
     ]
    }
   ],
   "source": []
  },
  {
   "cell_type": "code",
   "execution_count": 103,
   "id": "4bee3ce7-de22-4db4-bec2-f4890342a663",
   "metadata": {},
   "outputs": [
    {
     "data": {
      "text/plain": [
       "array([ 0.00159265,  0.99999968, -0.0031853 ])"
      ]
     },
     "execution_count": 103,
     "metadata": {},
     "output_type": "execute_result"
    }
   ],
   "source": [
    "angles = np.sin(angles)\n",
    "angles"
   ]
  },
  {
   "cell_type": "markdown",
   "id": "04302674",
   "metadata": {},
   "source": [
    "15. Отсортировать вектор"
   ]
  },
  {
   "cell_type": "code",
   "execution_count": 104,
   "id": "7cd71a15",
   "metadata": {},
   "outputs": [
    {
     "name": "stdout",
     "output_type": "stream",
     "text": [
      "[0.79430661 0.88250267 0.80222315 0.68796623 0.19517161 0.35271915\n",
      " 0.11282773 0.07870859 0.78939144 0.90958312]\n"
     ]
    }
   ],
   "source": [
    "v = np.random.random(size=[10])\n",
    "print(v)"
   ]
  },
  {
   "cell_type": "code",
   "execution_count": 69,
   "id": "46dc5330",
   "metadata": {},
   "outputs": [
    {
     "name": "stdout",
     "output_type": "stream",
     "text": [
      "[0.13178341 0.14962622 0.26204075 0.30821184 0.34446024 0.45199466\n",
      " 0.51581108 0.79408365 0.87313982 0.88810901]\n"
     ]
    }
   ],
   "source": []
  },
  {
   "cell_type": "code",
   "execution_count": 106,
   "id": "d8e9fede-3ffe-4792-8bcd-aeb750adf82f",
   "metadata": {},
   "outputs": [
    {
     "data": {
      "text/plain": [
       "array([0.07870859, 0.11282773, 0.19517161, 0.35271915, 0.68796623,\n",
       "       0.78939144, 0.79430661, 0.80222315, 0.88250267, 0.90958312])"
      ]
     },
     "execution_count": 106,
     "metadata": {},
     "output_type": "execute_result"
    }
   ],
   "source": [
    "v.sort()\n",
    "v"
   ]
  },
  {
   "cell_type": "markdown",
   "id": "dbbf1bf9",
   "metadata": {},
   "source": [
    "16. Проверить, одинаковы ли два NumPy массива"
   ]
  },
  {
   "cell_type": "code",
   "execution_count": 107,
   "id": "b65dd305",
   "metadata": {},
   "outputs": [],
   "source": [
    "a = np.array([1,2,3,4,5])\n",
    "b = np.array([1,2,3,4,5])"
   ]
  },
  {
   "cell_type": "code",
   "execution_count": 72,
   "id": "6e01dca9",
   "metadata": {},
   "outputs": [
    {
     "name": "stdout",
     "output_type": "stream",
     "text": [
      "True\n"
     ]
    }
   ],
   "source": []
  },
  {
   "cell_type": "code",
   "execution_count": 110,
   "id": "c1b96c7e-4c2b-4a1d-919b-1573955e077e",
   "metadata": {},
   "outputs": [
    {
     "data": {
      "text/plain": [
       "True"
      ]
     },
     "execution_count": 110,
     "metadata": {},
     "output_type": "execute_result"
    }
   ],
   "source": [
    "np.array_equal(a, b)"
   ]
  },
  {
   "cell_type": "markdown",
   "id": "9255bcd2",
   "metadata": {},
   "source": [
    "17. В одномерном массиве заменить максимальный элемент на ноль"
   ]
  },
  {
   "cell_type": "code",
   "execution_count": 73,
   "id": "ba7973d3",
   "metadata": {},
   "outputs": [],
   "source": [
    "Z = np.random.random(10)"
   ]
  },
  {
   "cell_type": "code",
   "execution_count": 74,
   "id": "1a912d24",
   "metadata": {},
   "outputs": [
    {
     "data": {
      "text/plain": [
       "array([0.16782157, 0.13655578, 0.59454878, 0.02957322, 0.81242629,\n",
       "       0.71645444, 0.48757387, 0.05812814, 0.21499663, 0.24011352])"
      ]
     },
     "execution_count": 74,
     "metadata": {},
     "output_type": "execute_result"
    }
   ],
   "source": [
    "Z"
   ]
  },
  {
   "cell_type": "code",
   "execution_count": 75,
   "id": "ec321b6c",
   "metadata": {},
   "outputs": [
    {
     "name": "stdout",
     "output_type": "stream",
     "text": [
      "[0.16782157 0.13655578 0.59454878 0.02957322 0.         0.71645444\n",
      " 0.48757387 0.05812814 0.21499663 0.24011352]\n"
     ]
    }
   ],
   "source": []
  },
  {
   "cell_type": "code",
   "execution_count": 115,
   "id": "14aaf773-aac9-462b-8809-a1f942c175df",
   "metadata": {},
   "outputs": [
    {
     "data": {
      "text/plain": [
       "array([0.44526267, 0.69298096, 0.03696063, 0.23227657, 0.58034151,\n",
       "       0.60527594, 0.71964568, 0.84753999, 0.04767467, 0.42576817])"
      ]
     },
     "execution_count": 115,
     "metadata": {},
     "output_type": "execute_result"
    }
   ],
   "source": [
    "Z = np.random.random(10)\n",
    "Z"
   ]
  },
  {
   "cell_type": "code",
   "execution_count": 116,
   "id": "679f069a-79bf-4025-91b0-892a4f78afe8",
   "metadata": {},
   "outputs": [
    {
     "data": {
      "text/plain": [
       "array([0.44526267, 0.69298096, 0.03696063, 0.23227657, 0.58034151,\n",
       "       0.60527594, 0.71964568, 0.        , 0.04767467, 0.42576817])"
      ]
     },
     "execution_count": 116,
     "metadata": {},
     "output_type": "execute_result"
    }
   ],
   "source": [
    "index = Z.argmax()\n",
    "Z[index] = 0\n",
    "Z"
   ]
  },
  {
   "cell_type": "markdown",
   "id": "8d5f7cb8",
   "metadata": {},
   "source": [
    "18. Замените все нечетные числа одномерного массива на -1."
   ]
  },
  {
   "cell_type": "code",
   "execution_count": 76,
   "id": "d299d6b2",
   "metadata": {},
   "outputs": [],
   "source": [
    "arr = np.array([0, 1, 2, 3, 4, 5, 6, 7, 8, 9])"
   ]
  },
  {
   "cell_type": "code",
   "execution_count": 79,
   "id": "2fab7f7e",
   "metadata": {},
   "outputs": [],
   "source": []
  },
  {
   "cell_type": "code",
   "execution_count": 80,
   "id": "fec84b28",
   "metadata": {},
   "outputs": [
    {
     "data": {
      "text/plain": [
       "array([ 0, -1,  2, -1,  4, -1,  6, -1,  8, -1])"
      ]
     },
     "execution_count": 80,
     "metadata": {},
     "output_type": "execute_result"
    }
   ],
   "source": [
    "arr"
   ]
  },
  {
   "cell_type": "code",
   "execution_count": 13,
   "id": "2f38036d-ba48-4f7d-b54a-8f8b104229df",
   "metadata": {},
   "outputs": [
    {
     "data": {
      "text/plain": [
       "array([0, 1, 2, 3, 4, 5, 6, 7, 8, 9])"
      ]
     },
     "execution_count": 13,
     "metadata": {},
     "output_type": "execute_result"
    }
   ],
   "source": [
    "arr = np.array([0, 1, 2, 3, 4, 5, 6, 7, 8, 9])\n",
    "arr"
   ]
  },
  {
   "cell_type": "code",
   "execution_count": 21,
   "id": "dfcfa08e-0fb5-48b2-b413-603575964f06",
   "metadata": {},
   "outputs": [
    {
     "data": {
      "text/plain": [
       "array([ 0, -1,  2, -1,  4, -1,  6, -1,  8, -1])"
      ]
     },
     "execution_count": 21,
     "metadata": {},
     "output_type": "execute_result"
    }
   ],
   "source": [
    "arr[1::2] = -1\n",
    "arr"
   ]
  },
  {
   "cell_type": "markdown",
   "id": "adb25062",
   "metadata": {},
   "source": [
    "19. Замените все элементы в массиве NumPy больше 30 или меньше 5 новым значением 10 "
   ]
  },
  {
   "cell_type": "code",
   "execution_count": 23,
   "id": "4738135c",
   "metadata": {},
   "outputs": [
    {
     "data": {
      "text/plain": [
       "array([ 0,  1, 20,  3,  4,  5,  6, -7,  8, 90])"
      ]
     },
     "execution_count": 23,
     "metadata": {},
     "output_type": "execute_result"
    }
   ],
   "source": [
    "arr = np.array([0, 1, 20, 3, 4, 5, 6, -7, 8, 90])\n",
    "arr"
   ]
  },
  {
   "cell_type": "code",
   "execution_count": 89,
   "id": "4f364c2c",
   "metadata": {},
   "outputs": [],
   "source": []
  },
  {
   "cell_type": "code",
   "execution_count": 90,
   "id": "731d3538",
   "metadata": {},
   "outputs": [
    {
     "data": {
      "text/plain": [
       "array([10, 10, 20, 10, 10,  5,  6, 10,  8, 10])"
      ]
     },
     "execution_count": 90,
     "metadata": {},
     "output_type": "execute_result"
    }
   ],
   "source": [
    "arr"
   ]
  },
  {
   "cell_type": "code",
   "execution_count": 29,
   "id": "d650773e-4224-4986-b494-e8e63bdd9cb9",
   "metadata": {},
   "outputs": [
    {
     "data": {
      "text/plain": [
       "array([10, 10, 20, 10, 10,  5,  6, 10,  8, 10])"
      ]
     },
     "execution_count": 29,
     "metadata": {},
     "output_type": "execute_result"
    }
   ],
   "source": [
    "arr[arr < 5] = 10\n",
    "arr[arr > 30] = 10\n",
    "arr"
   ]
  },
  {
   "cell_type": "markdown",
   "id": "aacdf990",
   "metadata": {},
   "source": [
    "20. Отсортируйте двумерный массив по столбцам"
   ]
  },
  {
   "cell_type": "code",
   "execution_count": 37,
   "id": "cc0f95e5",
   "metadata": {},
   "outputs": [],
   "source": [
    "a = np.array([[11,5,3], \n",
    " [4,15,6], \n",
    " [7,8,19]])\n"
   ]
  },
  {
   "cell_type": "code",
   "execution_count": 95,
   "id": "eb55870e",
   "metadata": {},
   "outputs": [
    {
     "data": {
      "text/plain": [
       "array([[ 4,  5,  3],\n",
       "       [ 7,  8,  6],\n",
       "       [11, 15, 19]])"
      ]
     },
     "execution_count": 95,
     "metadata": {},
     "output_type": "execute_result"
    }
   ],
   "source": []
  },
  {
   "cell_type": "code",
   "execution_count": 33,
   "id": "65688ffb",
   "metadata": {},
   "outputs": [
    {
     "data": {
      "text/plain": [
       "array([[ 4,  5,  3],\n",
       "       [ 7,  8,  6],\n",
       "       [11, 15, 19]])"
      ]
     },
     "execution_count": 33,
     "metadata": {},
     "output_type": "execute_result"
    }
   ],
   "source": [
    "np.sort(a, axis=0)"
   ]
  },
  {
   "cell_type": "code",
   "execution_count": null,
   "id": "776a60ba-f2d3-411d-8d65-2bd466566689",
   "metadata": {},
   "outputs": [],
   "source": []
  }
 ],
 "metadata": {
  "kernelspec": {
   "display_name": "Python 3 (ipykernel)",
   "language": "python",
   "name": "python3"
  },
  "language_info": {
   "codemirror_mode": {
    "name": "ipython",
    "version": 3
   },
   "file_extension": ".py",
   "mimetype": "text/x-python",
   "name": "python",
   "nbconvert_exporter": "python",
   "pygments_lexer": "ipython3",
   "version": "3.12.4"
  }
 },
 "nbformat": 4,
 "nbformat_minor": 5
}
